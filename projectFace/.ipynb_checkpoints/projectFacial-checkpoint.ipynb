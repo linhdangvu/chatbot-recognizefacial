{
 "cells": [
  {
   "cell_type": "code",
   "execution_count": 1,
   "id": "dc22e3d4",
   "metadata": {},
   "outputs": [],
   "source": [
    "from imutils import paths #imutils includes opencv functions\n",
    "import face_recognition\n",
    "import cv2\n",
    "import numpy as np\n",
    "import os"
   ]
  },
  {
   "cell_type": "code",
   "execution_count": 2,
   "id": "e822420a",
   "metadata": {},
   "outputs": [
    {
     "ename": "SyntaxError",
     "evalue": "invalid syntax (1356262388.py, line 89)",
     "output_type": "error",
     "traceback": [
      "\u001b[0;36m  File \u001b[0;32m\"/var/folders/gq/1q03jlln191gy3065wx3q0j80000gn/T/ipykernel_88093/1356262388.py\"\u001b[0;36m, line \u001b[0;32m89\u001b[0m\n\u001b[0;31m    if inp.lower() == \"exit\" && cv2.waitKey(1) & 0xFF == ord('q'):\u001b[0m\n\u001b[0m                              ^\u001b[0m\n\u001b[0;31mSyntaxError\u001b[0m\u001b[0;31m:\u001b[0m invalid syntax\n"
     ]
    }
   ],
   "source": [
    "print(\"start\")\n",
    "# Get a reference to webcam #0 (the default one)\n",
    "video_capture = cv2.VideoCapture(0)\n",
    "\n",
    "#Images here that contains data(folders of various people)\n",
    "imagePath = list(paths.list_images('known_people'))\n",
    "\n",
    "# Create arrays of known face encodings and their names\n",
    "known_face_encodings = []\n",
    "known_face_names = []\n",
    "\n",
    "# loop over the image paths\n",
    "for (i, ip) in enumerate(imagePath):\n",
    "    # extract the person name from the image path\n",
    "    name = ip.split(os.path.sep)[-1].split('.')[-2]\n",
    "    #print(name)\n",
    "    # Load a multi picture and learn how to recognize it.\n",
    "    person_image = face_recognition.load_image_file(ip)\n",
    "    person_face_encoding = face_recognition.face_encodings(person_image)[0]\n",
    "    known_face_encodings.append(person_face_encoding)\n",
    "    known_face_names.append(name)\n",
    "\n",
    "\n",
    "def launchCamera():\n",
    "    # Initialize some variables\n",
    "    face_locations = []\n",
    "    face_encodings = []\n",
    "    face_names = []\n",
    "    process_this_frame = True\n",
    "\n",
    "    while True:\n",
    "        # Grab a single frame of video\n",
    "        ret, frame = video_capture.read()\n",
    "\n",
    "        # Only process every other frame of video to save time\n",
    "        if process_this_frame:\n",
    "            # Resize frame of video to 1/4 size for faster face recognition processing\n",
    "            small_frame = cv2.resize(frame, (0, 0), fx=0.25, fy=0.25)\n",
    "\n",
    "            # Convert the image from BGR color (which OpenCV uses) to RGB color (which face_recognition uses)\n",
    "            rgb_small_frame = small_frame[:, :, ::-1]\n",
    "            \n",
    "            # Find all the faces and face encodings in the current frame of video\n",
    "            face_locations = face_recognition.face_locations(rgb_small_frame)\n",
    "            face_encodings = face_recognition.face_encodings(rgb_small_frame, face_locations)\n",
    "\n",
    "            face_names = []\n",
    "            for face_encoding in face_encodings:\n",
    "                # See if the face is a match for the known face(s)\n",
    "                matches = face_recognition.compare_faces(known_face_encodings, face_encoding)\n",
    "                name = \"Unknown\"\n",
    "\n",
    "                # Or instead, use the known face with the smallest distance to the new face\n",
    "                face_distances = face_recognition.face_distance(known_face_encodings, face_encoding)\n",
    "                best_match_index = np.argmin(face_distances)\n",
    "                if matches[best_match_index]:\n",
    "                    name = known_face_names[best_match_index]\n",
    "\n",
    "                face_names.append(name)\n",
    "\n",
    "        process_this_frame = not process_this_frame\n",
    "\n",
    "\n",
    "        # Display the results\n",
    "        for (top, right, bottom, left), name in zip(face_locations, face_names):\n",
    "            # Scale back up face locations since the frame we detected in was scaled to 1/4 size\n",
    "            top *= 4\n",
    "            right *= 4\n",
    "            bottom *= 4\n",
    "            left *= 4\n",
    "\n",
    "            # Draw a box around the face\n",
    "            cv2.rectangle(frame, (left, top), (right, bottom), (0, 0, 255), 2)\n",
    "\n",
    "            # Draw a label with a name below the face\n",
    "            cv2.rectangle(frame, (left, bottom - 35), (right, bottom), (0, 0, 255), cv2.FILLED)\n",
    "            font = cv2.FONT_HERSHEY_DUPLEX\n",
    "            cv2.putText(frame, name, (left + 6, bottom - 6), font, 1.0, (255, 255, 255), 1)\n",
    "\n",
    "        # Display the resulting image\n",
    "        cv2.imshow('Video', frame)\n",
    "\n",
    "        # Hit 'q' on the keyboard to quit!\n",
    "        if cv2.waitKey(1) & 0xFF == ord('q'):\n",
    "            break\n",
    "        \n",
    "        # Hit 'exit' on the keyboard to quit!\n",
    "        if cv2.waitKey(1) & 0xFF == ord('q'):\n",
    "            break\n",
    "            \n",
    "    # Release handle to the webcam\n",
    "    video_capture.release()\n",
    "    cv2.destroyAllWindows()"
   ]
  },
  {
   "cell_type": "code",
   "execution_count": 2,
   "id": "a92e5dee",
   "metadata": {},
   "outputs": [],
   "source": [
    "# Launch\n",
    "launchCamera()"
   ]
  },
  {
   "cell_type": "code",
   "execution_count": null,
   "id": "959926f8",
   "metadata": {},
   "outputs": [],
   "source": []
  },
  {
   "cell_type": "code",
   "execution_count": null,
   "id": "7b48603a",
   "metadata": {},
   "outputs": [],
   "source": []
  },
  {
   "cell_type": "code",
   "execution_count": null,
   "id": "1a19ef4a",
   "metadata": {},
   "outputs": [],
   "source": []
  }
 ],
 "metadata": {
  "kernelspec": {
   "display_name": "Python 3 (ipykernel)",
   "language": "python",
   "name": "python3"
  },
  "language_info": {
   "codemirror_mode": {
    "name": "ipython",
    "version": 3
   },
   "file_extension": ".py",
   "mimetype": "text/x-python",
   "name": "python",
   "nbconvert_exporter": "python",
   "pygments_lexer": "ipython3",
   "version": "3.9.13"
  }
 },
 "nbformat": 4,
 "nbformat_minor": 5
}
