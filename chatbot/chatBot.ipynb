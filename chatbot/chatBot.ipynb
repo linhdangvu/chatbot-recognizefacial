{
 "cells": [
  {
   "cell_type": "code",
   "execution_count": 4,
   "id": "45d22a90",
   "metadata": {},
   "outputs": [],
   "source": [
    "import nltk\n",
    "from nltk.stem.lancaster import LancasterStemmer\n",
    "import numpy\n",
    "import tflearn\n",
    "import tensorflow as tf \n",
    "import random\n",
    "import nltk\n",
    "import json"
   ]
  },
  {
   "cell_type": "code",
   "execution_count": 5,
   "id": "ec253f33",
   "metadata": {},
   "outputs": [
    {
     "name": "stdout",
     "output_type": "stream",
     "text": [
      "Training Step: 1999  | total loss: \u001b[1m\u001b[32m0.04141\u001b[0m\u001b[0m | time: 0.002s\n",
      "| Adam | epoch: 1000 | loss: 0.04141 - acc: 1.0000 -- iter: 08/12\n",
      "Training Step: 2000  | total loss: \u001b[1m\u001b[32m0.03906\u001b[0m\u001b[0m | time: 0.013s\n",
      "| Adam | epoch: 1000 | loss: 0.03906 - acc: 1.0000 -- iter: 12/12\n",
      "--\n",
      "INFO:tensorflow:/Volumes/Bi DANG/CFAINSTA/Codespace/TensorFlow/chatbot/model.tflearn is not in all_model_checkpoint_paths. Manually adding it.\n"
     ]
    }
   ],
   "source": [
    "stemmer = LancasterStemmer()\n",
    "nltk.download('punkt')\n",
    "words = []\n",
    "words_labels = []\n",
    "docs_x = []\n",
    "docs_y = []\n",
    "\n",
    "# Récuperee data dans le fichier\n",
    "with open('messages.json') as file:\n",
    "    data = json.load(file)\n",
    "\n",
    "# algo pour training\n",
    "for mess in data['messages']:\n",
    "    for inputW in mess['inputWords']:\n",
    "        wrds = nltk.word_tokenize(inputW)\n",
    "        words.extend(wrds)\n",
    "        docs_x.append(wrds)\n",
    "        docs_y.append(mess[\"label\"])\n",
    "\n",
    "    if mess['label'] not in words_labels:\n",
    "        words_labels.append(mess['label'])\n",
    "\n",
    "words = [stemmer.stem(w.lower()) for w in words if w != \"?\"]\n",
    "words = sorted(list(set(words)))\n",
    "\n",
    "words_labels = sorted(words_labels)\n",
    "\n",
    "training = []\n",
    "output = []\n",
    "\n",
    "out_empty = [0 for _ in range(len(words_labels))]\n",
    "\n",
    "for x, doc in enumerate(docs_x):\n",
    "    container = []\n",
    "\n",
    "    wrds = [stemmer.stem(w.lower()) for w in doc]\n",
    "\n",
    "    for w in words:\n",
    "        if w in wrds:\n",
    "            container.append(1)\n",
    "        else:\n",
    "            container.append(0)\n",
    "\n",
    "    output_row = out_empty[:]\n",
    "    output_row[words_labels.index(docs_y[x])] = 1\n",
    "\n",
    "    training.append(container)\n",
    "    output.append(output_row)\n",
    "\n",
    "training = numpy.array(training)\n",
    "output = numpy.array(output)\n",
    "\n",
    "# Start training model\n",
    "tf.compat.v1.reset_default_graph()\n",
    "\n",
    "net = tflearn.input_data(shape=[None, len(training[0])])\n",
    "net = tflearn.fully_connected(net, 8)\n",
    "net = tflearn.fully_connected(net, 8)\n",
    "net = tflearn.fully_connected(net, len(output[0]), activation=\"softmax\")\n",
    "net = tflearn.regression(net)\n",
    "\n",
    "model = tflearn.DNN(net)\n",
    "\n",
    "model.fit(training, output, n_epoch=1000, batch_size=8, show_metric=True)\n",
    "model.save(\"model.tflearn\")\n",
    "\n",
    "\n",
    "def wordsContainer(s, words):\n",
    "    container = [0 for _ in range(len(words))]\n",
    "\n",
    "    s_words = nltk.word_tokenize(s)\n",
    "    s_words = [stemmer.stem(word.lower()) for word in s_words]\n",
    "\n",
    "    for se in s_words:\n",
    "        for i, w in enumerate(words):\n",
    "            if w == se:\n",
    "                container[i] = 1\n",
    "            \n",
    "    return numpy.array(container)\n",
    "\n",
    "\n",
    "def lauchConversation():\n",
    "    print(\"Commencer la conversation (exit pour arrêter)!\")\n",
    "    while True:\n",
    "        inp = input(\"Vous: \")\n",
    "        if inp.lower() == \"exit\":\n",
    "            break\n",
    "\n",
    "        results = model.predict([wordsContainer(inp, words)])\n",
    "        results_index = numpy.argmax(results)\n",
    "        label = words_labels[results_index]\n",
    "\n",
    "        for tg in data[\"messages\"]:\n",
    "            if tg['label'] == label:\n",
    "                responses = tg['responses']\n",
    "\n",
    "        # Print random answer in the list\n",
    "        print(random.choice(responses))"
   ]
  },
  {
   "cell_type": "code",
   "execution_count": 6,
   "id": "18abf850",
   "metadata": {},
   "outputs": [
    {
     "name": "stdout",
     "output_type": "stream",
     "text": [
      "Commencer la conversation (exit pour arrêter)!\n",
      "Vous: exit\n"
     ]
    }
   ],
   "source": [
    "lauchConversation()"
   ]
  },
  {
   "cell_type": "code",
   "execution_count": null,
   "id": "7290e663",
   "metadata": {},
   "outputs": [],
   "source": []
  }
 ],
 "metadata": {
  "kernelspec": {
   "display_name": "Python 3 (ipykernel)",
   "language": "python",
   "name": "python3"
  },
  "language_info": {
   "codemirror_mode": {
    "name": "ipython",
    "version": 3
   },
   "file_extension": ".py",
   "mimetype": "text/x-python",
   "name": "python",
   "nbconvert_exporter": "python",
   "pygments_lexer": "ipython3",
   "version": "3.9.13"
  },
  "vscode": {
   "interpreter": {
    "hash": "aee8b7b246df8f9039afb4144a1f6fd8d2ca17a180786b69acc140d282b71a49"
   }
  }
 },
 "nbformat": 4,
 "nbformat_minor": 5
}
